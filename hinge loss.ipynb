{
 "cells": [
  {
   "cell_type": "code",
   "execution_count": 25,
   "metadata": {},
   "outputs": [],
   "source": [
    "import numpy as np\n",
    "from sklearn.preprocessing import StandardScaler\n",
    "from sklearn.datasets import load_iris , load_breast_cancer\n",
    "from sklearn.model_selection import train_test_split\n",
    "from sklearn.metrics import accuracy_score\n",
    "\n"
   ]
  },
  {
   "cell_type": "code",
   "execution_count": 26,
   "metadata": {},
   "outputs": [],
   "source": [
    "class BinarySVM:\n",
    "    def __init__(self, C: float = 1.0, max_iterations: int = 1000, learning_rate: float = 0.001):\n",
    "        self.C = C\n",
    "        self.max_iterations = max_iterations\n",
    "        self.learning_rate = learning_rate\n",
    "        \n",
    "    def fit(self, X_train, Y_train) :\n",
    "        scaler = StandardScaler()\n",
    "        X_train_scaled = scaler.fit_transform(X_train)\n",
    "        self.weights = np.random.random((X_train_scaled.shape[1],))\n",
    "\n",
    "        for iteration in range(self.max_iterations):\n",
    "            iteration_loss = 0.5 * np.dot(self.weights, self.weights)\n",
    "\n",
    "            for point_num in range(X_train_scaled.shape[0]):\n",
    "                y_i = Y_train[point_num]\n",
    "                x_i = X_train_scaled[point_num]\n",
    "                if y_i * np.dot(self.weights, x_i) < 1:\n",
    "                    iteration_loss += self.C * (1 - y_i * np.dot(self.weights, x_i))\n",
    "                    subgradient = self.weights - self.C * y_i * x_i\n",
    "                    self.weights -= self.learning_rate * subgradient\n",
    "            \n",
    "\n",
    "           # subgradient = self.weights - self.C * np.sum(Y_train[:, None] * X_train_scaled, axis=0)\n",
    "            #self.weights -= self.learning_rate * subgradient\n",
    "\n",
    "            # Print the loss for the current iteration\n",
    "            print(f\"Iteration {iteration+1}/{self.max_iterations}, Loss: {iteration_loss:.4f}\")\n",
    "\n",
    "    def predict(self, X_test: np.ndarray) -> np.ndarray:\n",
    "        scaler = StandardScaler()\n",
    "        X_test_scaled = scaler.fit_transform(X_test)\n",
    "        predicted_labels = np.sign(np.dot(X_test_scaled, self.weights))\n",
    "        return predicted_labels.astype(int)"
   ]
  },
  {
   "cell_type": "code",
   "execution_count": 27,
   "metadata": {},
   "outputs": [],
   "source": [
    "# Hand-made example\n",
    "X_train = np.array([[-15, 2], [1, 3], [-3, 4], [4, 5]])\n",
    "y_train = np.array([-1, 1, -1, 1])\n",
    "\n",
    "\n",
    "X_test = np.array([[-10, 1], [2, 2], [-2, 3], [3, 4]])\n",
    "y_test = np.array([-1, 1, -1, 1])\n"
   ]
  },
  {
   "cell_type": "code",
   "execution_count": 28,
   "metadata": {},
   "outputs": [
    {
     "name": "stdout",
     "output_type": "stream",
     "text": [
      "Iteration 1/100, Loss: 0.4079\n",
      "Iteration 2/100, Loss: 0.3994\n",
      "Iteration 3/100, Loss: 0.3915\n",
      "Iteration 4/100, Loss: 0.3840\n",
      "Iteration 5/100, Loss: 0.3784\n",
      "Iteration 6/100, Loss: 0.3735\n",
      "Iteration 7/100, Loss: 0.3690\n",
      "Iteration 8/100, Loss: 0.3651\n",
      "Iteration 9/100, Loss: 0.3616\n",
      "Iteration 10/100, Loss: 0.3586\n",
      "Iteration 11/100, Loss: 0.3560\n",
      "Iteration 12/100, Loss: 0.3537\n",
      "Iteration 13/100, Loss: 0.3517\n",
      "Iteration 14/100, Loss: 0.3500\n",
      "Iteration 15/100, Loss: 0.3485\n",
      "Iteration 16/100, Loss: 0.3473\n",
      "Iteration 17/100, Loss: 0.3463\n",
      "Iteration 18/100, Loss: 0.3455\n",
      "Iteration 19/100, Loss: 0.3448\n",
      "Iteration 20/100, Loss: 0.3443\n",
      "Iteration 21/100, Loss: 0.3440\n",
      "Iteration 22/100, Loss: 0.3438\n",
      "Iteration 23/100, Loss: 0.3436\n",
      "Iteration 24/100, Loss: 0.3436\n",
      "Iteration 25/100, Loss: 0.3437\n",
      "Iteration 26/100, Loss: 0.3438\n",
      "Iteration 27/100, Loss: 0.3440\n",
      "Iteration 28/100, Loss: 0.3443\n",
      "Iteration 29/100, Loss: 0.3446\n",
      "Iteration 30/100, Loss: 0.3449\n",
      "Iteration 31/100, Loss: 0.3453\n",
      "Iteration 32/100, Loss: 0.3458\n",
      "Iteration 33/100, Loss: 0.3462\n",
      "Iteration 34/100, Loss: 0.3467\n",
      "Iteration 35/100, Loss: 0.3472\n",
      "Iteration 36/100, Loss: 0.3477\n",
      "Iteration 37/100, Loss: 0.3483\n",
      "Iteration 38/100, Loss: 0.3488\n",
      "Iteration 39/100, Loss: 0.3494\n",
      "Iteration 40/100, Loss: 0.3499\n",
      "Iteration 41/100, Loss: 0.3505\n",
      "Iteration 42/100, Loss: 0.3510\n",
      "Iteration 43/100, Loss: 0.3516\n",
      "Iteration 44/100, Loss: 0.3521\n",
      "Iteration 45/100, Loss: 0.3526\n",
      "Iteration 46/100, Loss: 0.3532\n",
      "Iteration 47/100, Loss: 0.3537\n",
      "Iteration 48/100, Loss: 0.3542\n",
      "Iteration 49/100, Loss: 0.3547\n",
      "Iteration 50/100, Loss: 0.3552\n",
      "Iteration 51/100, Loss: 0.3557\n",
      "Iteration 52/100, Loss: 0.3562\n",
      "Iteration 53/100, Loss: 0.3567\n",
      "Iteration 54/100, Loss: 0.3572\n",
      "Iteration 55/100, Loss: 0.3576\n",
      "Iteration 56/100, Loss: 0.3581\n",
      "Iteration 57/100, Loss: 0.3585\n",
      "Iteration 58/100, Loss: 0.3589\n",
      "Iteration 59/100, Loss: 0.3593\n",
      "Iteration 60/100, Loss: 0.3597\n",
      "Iteration 61/100, Loss: 0.3601\n",
      "Iteration 62/100, Loss: 0.3605\n",
      "Iteration 63/100, Loss: 0.3609\n",
      "Iteration 64/100, Loss: 0.3612\n",
      "Iteration 65/100, Loss: 0.3616\n",
      "Iteration 66/100, Loss: 0.3619\n",
      "Iteration 67/100, Loss: 0.3622\n",
      "Iteration 68/100, Loss: 0.3625\n",
      "Iteration 69/100, Loss: 0.3629\n",
      "Iteration 70/100, Loss: 0.3631\n",
      "Iteration 71/100, Loss: 0.3634\n",
      "Iteration 72/100, Loss: 0.3637\n",
      "Iteration 73/100, Loss: 0.3640\n",
      "Iteration 74/100, Loss: 0.3642\n",
      "Iteration 75/100, Loss: 0.3645\n",
      "Iteration 76/100, Loss: 0.3647\n",
      "Iteration 77/100, Loss: 0.3650\n",
      "Iteration 78/100, Loss: 0.3652\n",
      "Iteration 79/100, Loss: 0.3654\n",
      "Iteration 80/100, Loss: 0.3656\n",
      "Iteration 81/100, Loss: 0.3658\n",
      "Iteration 82/100, Loss: 0.3660\n",
      "Iteration 83/100, Loss: 0.3662\n",
      "Iteration 84/100, Loss: 0.3664\n",
      "Iteration 85/100, Loss: 0.3666\n",
      "Iteration 86/100, Loss: 0.3667\n",
      "Iteration 87/100, Loss: 0.3669\n",
      "Iteration 88/100, Loss: 0.3670\n",
      "Iteration 89/100, Loss: 0.3672\n",
      "Iteration 90/100, Loss: 0.3673\n",
      "Iteration 91/100, Loss: 0.3675\n",
      "Iteration 92/100, Loss: 0.3676\n",
      "Iteration 93/100, Loss: 0.3677\n",
      "Iteration 94/100, Loss: 0.3679\n",
      "Iteration 95/100, Loss: 0.3680\n",
      "Iteration 96/100, Loss: 0.3681\n",
      "Iteration 97/100, Loss: 0.3682\n",
      "Iteration 98/100, Loss: 0.3683\n",
      "Iteration 99/100, Loss: 0.3684\n",
      "Iteration 100/100, Loss: 0.3685\n"
     ]
    }
   ],
   "source": [
    "svm = BinarySVM(C=0.1, max_iterations=100, learning_rate=0.01)\n",
    "svm.fit(X_train, y_train)\n",
    "\n"
   ]
  },
  {
   "cell_type": "code",
   "execution_count": 29,
   "metadata": {},
   "outputs": [
    {
     "name": "stdout",
     "output_type": "stream",
     "text": [
      "Predictions: [-1  1  1  1]\n"
     ]
    }
   ],
   "source": [
    "predictions = svm.predict(X_test)\n",
    "print(\"Predictions:\", predictions)\n"
   ]
  },
  {
   "cell_type": "code",
   "execution_count": 30,
   "metadata": {},
   "outputs": [
    {
     "data": {
      "text/plain": [
       "0.75"
      ]
     },
     "execution_count": 30,
     "metadata": {},
     "output_type": "execute_result"
    }
   ],
   "source": [
    "accuracy = accuracy_score(y_test, predictions)\n",
    "accuracy"
   ]
  },
  {
   "cell_type": "code",
   "execution_count": 31,
   "metadata": {},
   "outputs": [],
   "source": [
    "iris = load_iris()\n",
    "X = iris.data\n",
    "y = iris.target\n",
    "y_binary = np.where(y == 0, 1, -1)\n",
    "\n",
    "\n",
    "X_train, X_test, y_train, y_test = train_test_split(X, y_binary, test_size=0.2, random_state=42)\n",
    "\n"
   ]
  },
  {
   "cell_type": "code",
   "execution_count": 32,
   "metadata": {},
   "outputs": [
    {
     "name": "stdout",
     "output_type": "stream",
     "text": [
      "Iteration 1/50, Loss: 1.0582\n",
      "Iteration 2/50, Loss: 0.2252\n",
      "Iteration 3/50, Loss: 0.1336\n",
      "Iteration 4/50, Loss: 0.1223\n",
      "Iteration 5/50, Loss: 0.1204\n",
      "Iteration 6/50, Loss: 0.1199\n",
      "Iteration 7/50, Loss: 0.1198\n",
      "Iteration 8/50, Loss: 0.1197\n",
      "Iteration 9/50, Loss: 0.1197\n",
      "Iteration 10/50, Loss: 0.1197\n",
      "Iteration 11/50, Loss: 0.1197\n",
      "Iteration 12/50, Loss: 0.1197\n",
      "Iteration 13/50, Loss: 0.1197\n",
      "Iteration 14/50, Loss: 0.1197\n",
      "Iteration 15/50, Loss: 0.1197\n",
      "Iteration 16/50, Loss: 0.1197\n",
      "Iteration 17/50, Loss: 0.1197\n",
      "Iteration 18/50, Loss: 0.1197\n",
      "Iteration 19/50, Loss: 0.1197\n",
      "Iteration 20/50, Loss: 0.1197\n",
      "Iteration 21/50, Loss: 0.1197\n",
      "Iteration 22/50, Loss: 0.1197\n",
      "Iteration 23/50, Loss: 0.1197\n",
      "Iteration 24/50, Loss: 0.1197\n",
      "Iteration 25/50, Loss: 0.1197\n",
      "Iteration 26/50, Loss: 0.1197\n",
      "Iteration 27/50, Loss: 0.1197\n",
      "Iteration 28/50, Loss: 0.1197\n",
      "Iteration 29/50, Loss: 0.1197\n",
      "Iteration 30/50, Loss: 0.1197\n",
      "Iteration 31/50, Loss: 0.1197\n",
      "Iteration 32/50, Loss: 0.1197\n",
      "Iteration 33/50, Loss: 0.1197\n",
      "Iteration 34/50, Loss: 0.1197\n",
      "Iteration 35/50, Loss: 0.1197\n",
      "Iteration 36/50, Loss: 0.1197\n",
      "Iteration 37/50, Loss: 0.1197\n",
      "Iteration 38/50, Loss: 0.1197\n",
      "Iteration 39/50, Loss: 0.1197\n",
      "Iteration 40/50, Loss: 0.1197\n",
      "Iteration 41/50, Loss: 0.1197\n",
      "Iteration 42/50, Loss: 0.1197\n",
      "Iteration 43/50, Loss: 0.1197\n",
      "Iteration 44/50, Loss: 0.1197\n",
      "Iteration 45/50, Loss: 0.1197\n",
      "Iteration 46/50, Loss: 0.1197\n",
      "Iteration 47/50, Loss: 0.1197\n",
      "Iteration 48/50, Loss: 0.1197\n",
      "Iteration 49/50, Loss: 0.1197\n",
      "Iteration 50/50, Loss: 0.1197\n"
     ]
    }
   ],
   "source": [
    "svm = BinarySVM(C=0.001, max_iterations=50, learning_rate=0.01)\n",
    "svm.fit(X_train, y_train)\n",
    "\n"
   ]
  },
  {
   "cell_type": "code",
   "execution_count": 33,
   "metadata": {},
   "outputs": [],
   "source": [
    "predictions = svm.predict(X_test)\n",
    "\n"
   ]
  },
  {
   "cell_type": "code",
   "execution_count": 34,
   "metadata": {},
   "outputs": [
    {
     "name": "stdout",
     "output_type": "stream",
     "text": [
      "Accuracy: 0.9666666666666667\n"
     ]
    }
   ],
   "source": [
    "accuracy = accuracy_score(y_test, predictions)\n",
    "print(\"Accuracy:\", accuracy)"
   ]
  },
  {
   "cell_type": "code",
   "execution_count": null,
   "metadata": {},
   "outputs": [],
   "source": []
  }
 ],
 "metadata": {
  "kernelspec": {
   "display_name": "Python 3 (ipykernel)",
   "language": "python",
   "name": "python3"
  },
  "language_info": {
   "codemirror_mode": {
    "name": "ipython",
    "version": 3
   },
   "file_extension": ".py",
   "mimetype": "text/x-python",
   "name": "python",
   "nbconvert_exporter": "python",
   "pygments_lexer": "ipython3",
   "version": "3.11.5"
  }
 },
 "nbformat": 4,
 "nbformat_minor": 2
}
